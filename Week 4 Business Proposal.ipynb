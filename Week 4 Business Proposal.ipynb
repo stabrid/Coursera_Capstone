{
 "cells": [
  {
   "cell_type": "markdown",
   "metadata": {},
   "source": [
    "# Introduction"
   ]
  },
  {
   "cell_type": "markdown",
   "metadata": {},
   "source": [
    "This project aims to help people explore better surrounding facilities.\n",
    "The purpose of this project is to help people explore better surrounding facilities. It will help people make informed and effective decisions and choose great neighborhoods among many other communities in Scarborough, Toranto.\n",
    "\n",
    "Many people emigrate to various states in Canada, and they need a lot of research to find good housing prices and prestigious schools for their children. This project is for those who are looking for a better community. For easy access to cafes, schools, supermarkets, medical stores, grocery stores, shopping malls, theaters, hospitals, like-minded people, etc.\n",
    "\n",
    "This project aims to create a feature analysis for people who emigrate to Scarborough to find a best community as a comparative analysis between communities. These characteristics include median housing prices and better schools based on ratings, specific areas of crime rate, road connections, weather conditions, well-managed emergencies, water resources for garbage and sewage and sewage transfer And entertainment facilities.\n",
    "\n",
    "It will help people gain knowledge of the area and community before moving to a new city, state, country, or place to work or start a new life."
   ]
  },
  {
   "cell_type": "markdown",
   "metadata": {},
   "source": [
    "# Problem to Solve"
   ]
  },
  {
   "cell_type": "markdown",
   "metadata": {},
   "source": [
    "The major purpose of this project, is to suggest a better neighborhood in a new city for the person who are shiffting there. Social presence in society in terms of like minded people. Connectivity to the airport, bus stand, city center, markets and other daily needs things nearby."
   ]
  },
  {
   "cell_type": "markdown",
   "metadata": {},
   "source": [
    "Sorted list of house in terms of housing prices in a ascending or descending order"
   ]
  },
  {
   "cell_type": "markdown",
   "metadata": {},
   "source": [
    "Sorted list of schools in terms of location, fees, rating and reviews"
   ]
  },
  {
   "cell_type": "code",
   "execution_count": null,
   "metadata": {},
   "outputs": [],
   "source": []
  }
 ],
 "metadata": {
  "kernelspec": {
   "display_name": "Python 3",
   "language": "python",
   "name": "python3"
  },
  "language_info": {
   "codemirror_mode": {
    "name": "ipython",
    "version": 3
   },
   "file_extension": ".py",
   "mimetype": "text/x-python",
   "name": "python",
   "nbconvert_exporter": "python",
   "pygments_lexer": "ipython3",
   "version": "3.7.4"
  }
 },
 "nbformat": 4,
 "nbformat_minor": 2
}
